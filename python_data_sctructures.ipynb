{
 "cells": [
  {
   "cell_type": "markdown",
   "id": "3141a6b7",
   "metadata": {},
   "source": [
    "# 🐍 Python Practice: Lists, Tuples, Sets, Dictionaries\n",
    "---\n",
    "Цей ноутбук містить **40 практичних завдань** для по темах: списки, кортежі, множини та словники.\n",
    "Виконуйте завдання послідовно — від простих до складніших.\n",
    "Деякі завдання вимагають, щоб ви самостійно подумали як їх можна реалізувати. Такі завдання можуть мати декілька підходів. Якщо бачите декілька підходів, використовуйте всі. Це корисно для засвоєння інформації."
   ]
  },
  {
   "cell_type": "markdown",
   "id": "f3880a4a",
   "metadata": {},
   "source": [
    "## 1. Lists (Списки) — 10 завдань"
   ]
  },
  {
   "cell_type": "markdown",
   "id": "d8f24c78-aac6-413b-aae7-853dc2d2ee80",
   "metadata": {},
   "source": [
    "1. Створи список `fruits` із 5 назв фруктів"
   ]
  },
  {
   "cell_type": "code",
   "execution_count": 2,
   "id": "f8c77fd5-18a2-457d-8b38-4917ab341604",
   "metadata": {},
   "outputs": [],
   "source": [
    "fruits = [\"Banana\", \"Mango\", \"Strawberry\", \"Orange\", \"Pineapple\"]"
   ]
  },
  {
   "cell_type": "markdown",
   "id": "4362869c-184e-4d30-a650-e0675fda8162",
   "metadata": {},
   "source": [
    "2. Виведи перший і останній елемент списку"
   ]
  },
  {
   "cell_type": "code",
   "execution_count": 3,
   "id": "ad48efd2-a2a8-4d86-8dc5-e80ac93fd1c6",
   "metadata": {},
   "outputs": [
    {
     "name": "stdout",
     "output_type": "stream",
     "text": [
      "Banana\n",
      "Pineapple\n"
     ]
    }
   ],
   "source": [
    "print(fruits[0])\n",
    "print(fruits[-1])"
   ]
  },
  {
   "cell_type": "markdown",
   "id": "8dd48cc6-41a0-4c02-9de7-a01ec1369b31",
   "metadata": {},
   "source": [
    "3. Додай новий фрукт у кінець списку"
   ]
  },
  {
   "cell_type": "code",
   "execution_count": 4,
   "id": "a9bf4814-0883-4e09-b9ce-4c491af9dcb8",
   "metadata": {},
   "outputs": [
    {
     "name": "stdout",
     "output_type": "stream",
     "text": [
      "['Banana', 'Mango', 'Strawberry', 'Orange', 'Pineapple', 'Grapes']\n"
     ]
    }
   ],
   "source": [
    "fruits.append(\"Grapes\")\n",
    "print(fruits)"
   ]
  },
  {
   "cell_type": "markdown",
   "id": "b3c9d7f3-1f67-48eb-954f-fc5ab9af6b80",
   "metadata": {},
   "source": [
    "4. Встав новий фрукт у друге місце"
   ]
  },
  {
   "cell_type": "code",
   "execution_count": 5,
   "id": "7a69817f-174a-49a4-8784-dd7a6cf8c1c9",
   "metadata": {},
   "outputs": [
    {
     "name": "stdout",
     "output_type": "stream",
     "text": [
      "['Banana', 'Kiwi', 'Mango', 'Strawberry', 'Orange', 'Pineapple', 'Grapes']\n"
     ]
    }
   ],
   "source": [
    "fruits.insert(1, \"Kiwi\")\n",
    "print(fruits)"
   ]
  },
  {
   "cell_type": "markdown",
   "id": "4b45005d-2387-405c-b5e8-fa21e8237304",
   "metadata": {},
   "source": [
    "5. Видали третій елемент зі списку"
   ]
  },
  {
   "cell_type": "code",
   "execution_count": 6,
   "id": "1b195976-fc59-41b6-bf4e-dd5354aa745b",
   "metadata": {},
   "outputs": [
    {
     "name": "stdout",
     "output_type": "stream",
     "text": [
      "['Banana', 'Kiwi', 'Strawberry', 'Orange', 'Pineapple', 'Grapes']\n"
     ]
    }
   ],
   "source": [
    "fruits.pop(2)\n",
    "print(fruits)"
   ]
  },
  {
   "cell_type": "markdown",
   "id": "c8fc8f96-5f4b-4f67-b9bf-08329422a04b",
   "metadata": {},
   "source": [
    "6. Замініть перший фрукт на `'apple'`"
   ]
  },
  {
   "cell_type": "code",
   "execution_count": 7,
   "id": "d0fddc4a-1488-43d1-bbe1-d106e4b1913f",
   "metadata": {},
   "outputs": [
    {
     "name": "stdout",
     "output_type": "stream",
     "text": [
      "['Apple', 'Kiwi', 'Strawberry', 'Orange', 'Pineapple', 'Grapes']\n"
     ]
    }
   ],
   "source": [
    "fruits[0] = \"Apple\"\n",
    "print(fruits)"
   ]
  },
  {
   "cell_type": "markdown",
   "id": "0219db2d-b256-420f-8dd9-9c8487fafaa3",
   "metadata": {},
   "source": [
    "7. Виведи довжину списку за допомогою `len()`."
   ]
  },
  {
   "cell_type": "code",
   "execution_count": 8,
   "id": "caa41e58-408a-40b6-be09-9a4ed29b09f2",
   "metadata": {},
   "outputs": [
    {
     "name": "stdout",
     "output_type": "stream",
     "text": [
      "6\n"
     ]
    }
   ],
   "source": [
    "print(len(fruits))"
   ]
  },
  {
   "cell_type": "markdown",
   "id": "0ccecb07-1c5b-4740-82be-be0911f89e29",
   "metadata": {},
   "source": [
    "8. Виведи всі елементи у зворотному порядку (через `[::-1]`).\n",
    "Памʼятайте, що `lst.reverse()` змінить сам список, а не просто виведе елементи у зворотному порядку. Спробуйте в цьому пересвідчитись"
   ]
  },
  {
   "cell_type": "code",
   "execution_count": 11,
   "id": "87f694d0-9c3f-4626-b651-640f6ac98df6",
   "metadata": {},
   "outputs": [
    {
     "name": "stdout",
     "output_type": "stream",
     "text": [
      "['Grapes', 'Pineapple', 'Orange', 'Strawberry', 'Kiwi', 'Apple']\n",
      "['Apple', 'Kiwi', 'Strawberry', 'Orange', 'Pineapple', 'Grapes']\n",
      "['Grapes', 'Pineapple', 'Orange', 'Strawberry', 'Kiwi', 'Apple']\n"
     ]
    }
   ],
   "source": [
    "print(fruits[::-1])\n",
    "print(fruits)\n",
    "fruits.reverse()\n",
    "print(fruits)"
   ]
  },
  {
   "cell_type": "markdown",
   "id": "db762e74-115f-43ea-ab4a-2d9dfd979fac",
   "metadata": {},
   "source": [
    "9. Створи список чисел від 1 до 10 і виведи тільки парні числа"
   ]
  },
  {
   "cell_type": "code",
   "execution_count": 31,
   "id": "851514e7-19bb-4336-b2d3-45314c2905fd",
   "metadata": {},
   "outputs": [
    {
     "name": "stdout",
     "output_type": "stream",
     "text": [
      "2 4 6 8 10 "
     ]
    }
   ],
   "source": [
    "numbers = list(range(1,11))\n",
    "for i in numbers:\n",
    "    if i % 2 == 0:\n",
    "        print(i, end=\" \")"
   ]
  },
  {
   "cell_type": "markdown",
   "id": "89ccdf41-9f09-45ce-94a9-29e9896ddc51",
   "metadata": {},
   "source": [
    "10. Порахуй, скільки разів у списку зустрічається певний елемент, наприклад `\"banana\"` або `\"apple\"`"
   ]
  },
  {
   "cell_type": "code",
   "execution_count": 19,
   "id": "805be898-70d8-45fa-9e02-3e5b7fced99b",
   "metadata": {},
   "outputs": [
    {
     "name": "stdout",
     "output_type": "stream",
     "text": [
      "5\n",
      "1\n"
     ]
    }
   ],
   "source": [
    "fruits.append(\"Apple\")\n",
    "print(fruits.count(\"Apple\"))\n",
    "print(fruits.count(\"Kiwi\"))"
   ]
  },
  {
   "cell_type": "markdown",
   "id": "8c42173d",
   "metadata": {},
   "source": [
    "## 2. Tuples (Кортежі) — 10 завдань"
   ]
  },
  {
   "cell_type": "markdown",
   "id": "93ea351e-cdda-4399-9498-3fada6374fe6",
   "metadata": {},
   "source": [
    "11. Створи кортеж `colors` з 5 кольорів"
   ]
  },
  {
   "cell_type": "code",
   "execution_count": 39,
   "id": "8f21d22d-5986-4528-99f8-755fa8eb1987",
   "metadata": {},
   "outputs": [],
   "source": [
    "tuple_1 = (\"Red\", \"Blue\", \"Green\", \"Yellow\", \"Purple\")"
   ]
  },
  {
   "cell_type": "markdown",
   "id": "a620f02a-2486-4f36-b73d-d4ece2ead369",
   "metadata": {},
   "source": [
    "12. Виведи другий і четвертий елементи кортежу"
   ]
  },
  {
   "cell_type": "code",
   "execution_count": 40,
   "id": "f9f69153-7265-406e-af86-8e4a98d1b206",
   "metadata": {},
   "outputs": [
    {
     "name": "stdout",
     "output_type": "stream",
     "text": [
      "tuple[1] tuple[3]\n"
     ]
    }
   ],
   "source": [
    "print(tuple[1], tuple[3])"
   ]
  },
  {
   "cell_type": "markdown",
   "id": "32629ef2-e304-43a3-a5b8-ddfd8566e32b",
   "metadata": {},
   "source": [
    "13. Перетвори кортеж у список, додай новий колір і назад у кортеж"
   ]
  },
  {
   "cell_type": "code",
   "execution_count": 41,
   "id": "a192e913-568c-45dd-b3f0-b31d83b4ee8c",
   "metadata": {},
   "outputs": [
    {
     "name": "stdout",
     "output_type": "stream",
     "text": [
      "('Red', 'Blue', 'Green', 'Yellow', 'Purple', 'Pink')\n"
     ]
    }
   ],
   "source": [
    "list_1 = list(tuple_1)\n",
    "list_1.append(\"Pink\")\n",
    "tuple_1 = tuple(list_1)\n",
    "print(tuple_1)"
   ]
  },
  {
   "cell_type": "markdown",
   "id": "dfb53946-e1fc-4607-b2d9-b3386a94cde9",
   "metadata": {},
   "source": [
    "14. Створи кортеж із 3 чисел і обчисли їх суму"
   ]
  },
  {
   "cell_type": "code",
   "execution_count": 43,
   "id": "7acf575b-dcaa-418c-a2c4-942ad670f425",
   "metadata": {},
   "outputs": [
    {
     "name": "stdout",
     "output_type": "stream",
     "text": [
      "18\n"
     ]
    }
   ],
   "source": [
    "tuple_2 = (3, 6, 9)\n",
    "del sum\n",
    "sum_1 = sum(list(tuple_2))\n",
    "print(sum_1)"
   ]
  },
  {
   "cell_type": "markdown",
   "id": "02fe98b7-c159-42a9-a347-ee81c277ef87",
   "metadata": {},
   "source": [
    "15. Об’єднай два кортежі в один"
   ]
  },
  {
   "cell_type": "code",
   "execution_count": 44,
   "id": "32dbe9dc-7f88-4722-b4f4-42b1261320b9",
   "metadata": {},
   "outputs": [
    {
     "name": "stdout",
     "output_type": "stream",
     "text": [
      "('Red', 'Blue', 'Green', 'Yellow', 'Purple', 'Pink', 3, 6, 9)\n"
     ]
    }
   ],
   "source": [
    "tuple_3 = tuple_1 + tuple_2\n",
    "print(tuple_3)"
   ]
  },
  {
   "cell_type": "markdown",
   "id": "1b01e92b-fce3-4f42-87a4-6db2a4f59eb3",
   "metadata": {},
   "source": [
    "16. Перевір, чи є число `5` у кортежі"
   ]
  },
  {
   "cell_type": "code",
   "execution_count": 49,
   "id": "d29cdeb8-fc7a-4eb1-b175-bbd85c789a73",
   "metadata": {},
   "outputs": [
    {
     "name": "stdout",
     "output_type": "stream",
     "text": [
      "True\n"
     ]
    }
   ],
   "source": [
    "print(3 in tuple_3)"
   ]
  },
  {
   "cell_type": "markdown",
   "id": "a5a8f227-146a-47f1-8ec5-9551383caf69",
   "metadata": {},
   "source": [
    "17. Виведи довжину кортежу"
   ]
  },
  {
   "cell_type": "code",
   "execution_count": 45,
   "id": "62021a64-b728-44cc-a860-b5d8f6a7fd6a",
   "metadata": {},
   "outputs": [
    {
     "name": "stdout",
     "output_type": "stream",
     "text": [
      "9\n"
     ]
    }
   ],
   "source": [
    "print(len(tuple_3))"
   ]
  },
  {
   "cell_type": "markdown",
   "id": "b7fe009f-5204-4352-980d-58a5a38d7b1b",
   "metadata": {},
   "source": [
    "18. Створи кортеж із 10 чисел і виведи max та min"
   ]
  },
  {
   "cell_type": "code",
   "execution_count": 50,
   "id": "6a8af176-0095-4559-8e2e-018a493b2051",
   "metadata": {},
   "outputs": [
    {
     "name": "stdout",
     "output_type": "stream",
     "text": [
      "10\n",
      "1\n"
     ]
    }
   ],
   "source": [
    "tuple_4 = tuple(range(1,11))\n",
    "print(max(tuple_4))\n",
    "print(min(tuple_4))"
   ]
  },
  {
   "cell_type": "markdown",
   "id": "df20245b-ee78-4997-9bd4-eafbedb772b9",
   "metadata": {},
   "source": [
    "19. Створи кортеж із одного значення і перевір тип (функція `type()`)"
   ]
  },
  {
   "cell_type": "code",
   "execution_count": 51,
   "id": "5ac57e59-3d5b-42d4-b20e-67369b48df27",
   "metadata": {},
   "outputs": [
    {
     "data": {
      "text/plain": [
       "str"
      ]
     },
     "execution_count": 51,
     "metadata": {},
     "output_type": "execute_result"
    }
   ],
   "source": [
    "tuple_5 = (\"1\")\n",
    "type(tuple_5)"
   ]
  },
  {
   "cell_type": "markdown",
   "id": "d03c61c9-6346-45a3-a5fa-a110305026bc",
   "metadata": {},
   "source": [
    "20. Тепер додай до кортежу ще один елемент і перевір тип"
   ]
  },
  {
   "cell_type": "code",
   "execution_count": 52,
   "id": "4cebdb18-19b3-4929-85c5-da930b0b9e2a",
   "metadata": {},
   "outputs": [
    {
     "data": {
      "text/plain": [
       "tuple"
      ]
     },
     "execution_count": 52,
     "metadata": {},
     "output_type": "execute_result"
    }
   ],
   "source": [
    "tuple_5 = (\"1\", \"2\")\n",
    "type(tuple_5)"
   ]
  },
  {
   "cell_type": "markdown",
   "id": "3e6fe39a",
   "metadata": {},
   "source": [
    "## 3. Sets (Множини) — 10 завдань"
   ]
  },
  {
   "cell_type": "markdown",
   "id": "06e7e359-07dc-429c-bea1-b1ed6d3885b0",
   "metadata": {},
   "source": [
    "21. Створи множину `numbers` із чисел від 1 до 5"
   ]
  },
  {
   "cell_type": "code",
   "execution_count": null,
   "id": "5612af5b-da4e-44e7-b1fe-67d6c6fd1ac7",
   "metadata": {},
   "outputs": [],
   "source": []
  },
  {
   "cell_type": "markdown",
   "id": "a937dc71-0db3-4371-8eac-fc32e7537c92",
   "metadata": {},
   "source": [
    "22. Додай число `6`"
   ]
  },
  {
   "cell_type": "code",
   "execution_count": null,
   "id": "dcbf83fc-ded8-4e2c-9637-2ca6eeb4a3a7",
   "metadata": {},
   "outputs": [],
   "source": []
  },
  {
   "cell_type": "markdown",
   "id": "1ee63cc4-6227-4bca-adc2-d7b29e86a993",
   "metadata": {},
   "source": [
    "23. Спробуй додати ще раз число `3` і перевір, що воно не дублюється."
   ]
  },
  {
   "cell_type": "code",
   "execution_count": null,
   "id": "cf65068f-5918-4587-bfa9-3b0abd3ed6f6",
   "metadata": {},
   "outputs": [],
   "source": []
  },
  {
   "cell_type": "markdown",
   "id": "b357c564-1cf4-43c0-b510-ad485f02e2cf",
   "metadata": {},
   "source": [
    "24. Видали будь-який елемент"
   ]
  },
  {
   "cell_type": "code",
   "execution_count": null,
   "id": "3a6cc11e-2432-411b-84b3-f334bea55a76",
   "metadata": {},
   "outputs": [],
   "source": []
  },
  {
   "cell_type": "markdown",
   "id": "24265de3-5d11-49b9-bd88-56ebd5120187",
   "metadata": {},
   "source": [
    "25. Створи дві множини:\n",
    "\n",
    "`A = {1, 2, 3, 4}`  \n",
    "`B = {3, 4, 5, 6}`\n",
    "\n",
    "\n",
    "і знайди:  \n",
    "- об’єднання (union)\n",
    "- перетин (intersection)\n",
    "- різницю (difference)"
   ]
  },
  {
   "cell_type": "code",
   "execution_count": null,
   "id": "e78c650b-8986-4cb1-9f2e-59346d9d8497",
   "metadata": {},
   "outputs": [],
   "source": []
  },
  {
   "cell_type": "markdown",
   "id": "49e0e01e-8b2f-4242-b1d5-acbc04816a07",
   "metadata": {},
   "source": [
    "26. Перевір, чи `A` є підмножиною `B`"
   ]
  },
  {
   "cell_type": "code",
   "execution_count": null,
   "id": "e5528fda-3b71-479e-a996-82b74b2e2090",
   "metadata": {},
   "outputs": [],
   "source": []
  },
  {
   "cell_type": "markdown",
   "id": "ef906de6-adaf-498c-a58c-de5ad11a7338",
   "metadata": {},
   "source": [
    "27. Створи множину з рядка `'banana'`"
   ]
  },
  {
   "cell_type": "code",
   "execution_count": null,
   "id": "0b833451-6549-47d1-ac72-10fc9dbc24c4",
   "metadata": {},
   "outputs": [],
   "source": []
  },
  {
   "cell_type": "markdown",
   "id": "8b1dd8a2-dd3d-4e8e-b4eb-c44977197069",
   "metadata": {},
   "source": [
    "28. Перетвори список із дублями у множину, щоб прибрати повтори."
   ]
  },
  {
   "cell_type": "code",
   "execution_count": null,
   "id": "b6cb9165-e975-4871-8337-540dbb330e04",
   "metadata": {},
   "outputs": [],
   "source": []
  },
  {
   "cell_type": "markdown",
   "id": "e32bb0da-58fb-4f3d-8beb-89440039b5f1",
   "metadata": {},
   "source": [
    "29. Створи дві множини слів із двох речень і знайди спільні слова."
   ]
  },
  {
   "cell_type": "code",
   "execution_count": null,
   "id": "44106695-2ef6-4096-a7f7-eeb20555eba2",
   "metadata": {},
   "outputs": [],
   "source": []
  },
  {
   "cell_type": "markdown",
   "id": "779f3bca-46fe-4d89-af0f-a1ad0bbb5925",
   "metadata": {},
   "source": [
    "30. Очисти множину за допомогою `clear()`"
   ]
  },
  {
   "cell_type": "code",
   "execution_count": null,
   "id": "dd05634e-fe1d-46a9-9ecf-57c06022938c",
   "metadata": {},
   "outputs": [],
   "source": []
  },
  {
   "cell_type": "markdown",
   "id": "ac1c0857",
   "metadata": {},
   "source": [
    "## 4. Dictionaries (Словники) — 10 завдань"
   ]
  },
  {
   "cell_type": "markdown",
   "id": "a6fe097f-abad-4bd7-bce8-1e0ba2e91af3",
   "metadata": {},
   "source": [
    "31. Створи словник `person` з ключами: `\"name\"`, `\"age\"`, `\"city\"`."
   ]
  },
  {
   "cell_type": "code",
   "execution_count": null,
   "id": "11f5cbbc-e902-48eb-a1b2-8e73648baeb4",
   "metadata": {},
   "outputs": [],
   "source": []
  },
  {
   "cell_type": "markdown",
   "id": "be27b073-1799-4a5f-9d3c-7259cbd6d50f",
   "metadata": {},
   "source": [
    "32. Виведи значення ключа `'name'`"
   ]
  },
  {
   "cell_type": "code",
   "execution_count": null,
   "id": "2d2a60bc-a1db-425f-a547-b44bc1d81eb9",
   "metadata": {},
   "outputs": [],
   "source": []
  },
  {
   "cell_type": "markdown",
   "id": "370ee450-55b4-4fbd-9c50-41402eb83b2e",
   "metadata": {},
   "source": [
    "33. Додай новий ключ `\"country\"` зі значенням `\"Ukraine\"`."
   ]
  },
  {
   "cell_type": "code",
   "execution_count": null,
   "id": "93554a5e-fb28-413f-9332-a14ef1be2297",
   "metadata": {},
   "outputs": [],
   "source": []
  },
  {
   "cell_type": "markdown",
   "id": "89ce9c20-bb14-418a-8cb6-d537b4931685",
   "metadata": {},
   "source": [
    "34. Зміни значення ключа `'age'` на нове"
   ]
  },
  {
   "cell_type": "code",
   "execution_count": null,
   "id": "5d409232-2831-4cd0-92a0-a3e0b3110994",
   "metadata": {},
   "outputs": [],
   "source": []
  },
  {
   "cell_type": "markdown",
   "id": "6c4a6cda-598c-42c4-bb33-b419b2a8cec2",
   "metadata": {},
   "source": [
    "35. Видали ключ `'city'`"
   ]
  },
  {
   "cell_type": "code",
   "execution_count": null,
   "id": "8d252be5-0f5e-453b-a20d-e16f80128709",
   "metadata": {},
   "outputs": [],
   "source": []
  },
  {
   "cell_type": "markdown",
   "id": "4a390987-e9be-4bf7-a33a-77d3262837fc",
   "metadata": {},
   "source": [
    "36. Перевір, чи є ключ `'name'` у словнику"
   ]
  },
  {
   "cell_type": "code",
   "execution_count": null,
   "id": "378fbc2a-a31e-4afc-80fe-0d1c3c78459d",
   "metadata": {},
   "outputs": [],
   "source": []
  },
  {
   "cell_type": "markdown",
   "id": "5b1a706c-0cff-47bb-8a13-60c77afc8440",
   "metadata": {},
   "source": [
    "37. Пройди циклом по словнику і виведи всі ключі та значення."
   ]
  },
  {
   "cell_type": "code",
   "execution_count": null,
   "id": "d770d4a2-e748-4bd9-894c-629555a7df0b",
   "metadata": {},
   "outputs": [],
   "source": []
  },
  {
   "cell_type": "markdown",
   "id": "926c3414-9f05-4b9c-a67a-14a209e6e031",
   "metadata": {},
   "source": [
    "38. Створи словник оцінок студентів"
   ]
  },
  {
   "cell_type": "code",
   "execution_count": null,
   "id": "a150f640-2d81-41e8-83a3-94f41e6c0d6e",
   "metadata": {},
   "outputs": [],
   "source": []
  },
  {
   "cell_type": "markdown",
   "id": "10c7b050-f53b-4acc-8c88-126425811a04",
   "metadata": {},
   "source": [
    "39. Об’єднай два словники"
   ]
  },
  {
   "cell_type": "code",
   "execution_count": null,
   "id": "cf7c3e84-3a61-4760-92f2-e841bd1213b1",
   "metadata": {},
   "outputs": [],
   "source": []
  },
  {
   "cell_type": "markdown",
   "id": "d24aa6a5-1aed-4eed-8bf9-1d08929bf694",
   "metadata": {},
   "source": [
    "40. Словник квадратів чисел 1–5"
   ]
  },
  {
   "cell_type": "code",
   "execution_count": null,
   "id": "0429b89a-4fa6-4810-9615-3d9f1de0ae07",
   "metadata": {},
   "outputs": [],
   "source": []
  }
 ],
 "metadata": {
  "kernelspec": {
   "display_name": "Python 3",
   "language": "python",
   "name": "python3"
  },
  "language_info": {
   "codemirror_mode": {
    "name": "ipython",
    "version": 3
   },
   "file_extension": ".py",
   "mimetype": "text/x-python",
   "name": "python",
   "nbconvert_exporter": "python",
   "pygments_lexer": "ipython3",
   "version": "3.14.0"
  }
 },
 "nbformat": 4,
 "nbformat_minor": 5
}
